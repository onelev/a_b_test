{
 "cells": [
  {
   "cell_type": "markdown",
   "id": "1f92bf3e",
   "metadata": {},
   "source": [
    "# Анализ А/В-тестов для крупного интернет магазина"
   ]
  },
  {
   "cell_type": "markdown",
   "id": "3d2e7022",
   "metadata": {},
   "source": [
    "**Данные для первой части**\n",
    "* Hypothesis — краткое описание гипотезы;\n",
    "* Reach — охват пользователей по 10-балльной шкале;\n",
    "* Impact — влияние на пользователей по 10-балльной шкале;\n",
    "* Confidence — уверенность в гипотезе по 10-балльной шкале;\n",
    "* Efforts — затраты ресурсов на проверку гипотезы по 10-балльной шкале. Чем больше значение Efforts, тем дороже проверка гипотезы.\n",
    "\n",
    "**Данные для второй части**\n",
    "\n",
    "**таблица orders**\n",
    "* transactionId — идентификатор заказа;\n",
    "* visitorId — идентификатор пользователя, совершившего заказ;\n",
    "* date — дата, когда был совершён заказ;\n",
    "* revenue — выручка заказа;\n",
    "* group — группа A/B-теста, в которую попал заказ.\n",
    "\n",
    "**таблица visitors**\n",
    "* date — дата;\n",
    "* group — группа A/B-теста;\n",
    "* visitors — количество пользователей в указанную дату в указанной группе A/B-теста"
   ]
  },
  {
   "cell_type": "markdown",
   "id": "b6f51311",
   "metadata": {},
   "source": [
    "**ВВЕДЕНИЕ**\n",
    "\n",
    "В нашем пользовании данные - результаты А/В-теста. \n",
    "\n",
    "Вместе с отделом маркетинга были подготовлены гипотезы для увеличения выручки крупного интернет магазина. \n",
    "\n",
    "Необходимо - приоритизировать гипотезы, проанализировать результаты А/В-теста."
   ]
  },
  {
   "cell_type": "markdown",
   "id": "e06bd0de",
   "metadata": {},
   "source": [
    "# Приориизация гипотез"
   ]
  },
  {
   "cell_type": "code",
   "execution_count": 1,
   "id": "798d775e",
   "metadata": {},
   "outputs": [],
   "source": [
    "# импорт библиотек\n",
    "import pandas as pd\n",
    "pd.options.display.max_colwidth = 130\n",
    "import datetime as dt\n",
    "import numpy as np\n",
    "import scipy.stats as stats\n",
    "import matplotlib.pyplot as plt"
   ]
  },
  {
   "cell_type": "code",
   "execution_count": 2,
   "id": "c288704e",
   "metadata": {},
   "outputs": [
    {
     "data": {
      "text/html": [
       "<div>\n",
       "<style scoped>\n",
       "    .dataframe tbody tr th:only-of-type {\n",
       "        vertical-align: middle;\n",
       "    }\n",
       "\n",
       "    .dataframe tbody tr th {\n",
       "        vertical-align: top;\n",
       "    }\n",
       "\n",
       "    .dataframe thead th {\n",
       "        text-align: right;\n",
       "    }\n",
       "</style>\n",
       "<table border=\"1\" class=\"dataframe\">\n",
       "  <thead>\n",
       "    <tr style=\"text-align: right;\">\n",
       "      <th></th>\n",
       "      <th>Hypothesis</th>\n",
       "      <th>Reach</th>\n",
       "      <th>Impact</th>\n",
       "      <th>Confidence</th>\n",
       "      <th>Efforts</th>\n",
       "    </tr>\n",
       "  </thead>\n",
       "  <tbody>\n",
       "    <tr>\n",
       "      <th>0</th>\n",
       "      <td>Добавить два новых канала привлечения трафика, что позволит привлекать на 30% больше пользователей</td>\n",
       "      <td>3</td>\n",
       "      <td>10</td>\n",
       "      <td>8</td>\n",
       "      <td>6</td>\n",
       "    </tr>\n",
       "    <tr>\n",
       "      <th>1</th>\n",
       "      <td>Запустить собственную службу доставки, что сократит срок доставки заказов</td>\n",
       "      <td>2</td>\n",
       "      <td>5</td>\n",
       "      <td>4</td>\n",
       "      <td>10</td>\n",
       "    </tr>\n",
       "    <tr>\n",
       "      <th>2</th>\n",
       "      <td>Добавить блоки рекомендаций товаров на сайт интернет магазина, чтобы повысить конверсию и средний чек заказа</td>\n",
       "      <td>8</td>\n",
       "      <td>3</td>\n",
       "      <td>7</td>\n",
       "      <td>3</td>\n",
       "    </tr>\n",
       "    <tr>\n",
       "      <th>3</th>\n",
       "      <td>Изменить структура категорий, что увеличит конверсию, т.к. пользователи быстрее найдут нужный товар</td>\n",
       "      <td>8</td>\n",
       "      <td>3</td>\n",
       "      <td>3</td>\n",
       "      <td>8</td>\n",
       "    </tr>\n",
       "    <tr>\n",
       "      <th>4</th>\n",
       "      <td>Изменить цвет фона главной страницы, чтобы увеличить вовлеченность пользователей</td>\n",
       "      <td>3</td>\n",
       "      <td>1</td>\n",
       "      <td>1</td>\n",
       "      <td>1</td>\n",
       "    </tr>\n",
       "    <tr>\n",
       "      <th>5</th>\n",
       "      <td>Добавить страницу отзывов клиентов о магазине, что позволит увеличить количество заказов</td>\n",
       "      <td>3</td>\n",
       "      <td>2</td>\n",
       "      <td>2</td>\n",
       "      <td>3</td>\n",
       "    </tr>\n",
       "    <tr>\n",
       "      <th>6</th>\n",
       "      <td>Показать на главной странице баннеры с актуальными акциями и распродажами, чтобы увеличить конверсию</td>\n",
       "      <td>5</td>\n",
       "      <td>3</td>\n",
       "      <td>8</td>\n",
       "      <td>3</td>\n",
       "    </tr>\n",
       "    <tr>\n",
       "      <th>7</th>\n",
       "      <td>Добавить форму подписки на все основные страницы, чтобы собрать базу клиентов для email-рассылок</td>\n",
       "      <td>10</td>\n",
       "      <td>7</td>\n",
       "      <td>8</td>\n",
       "      <td>5</td>\n",
       "    </tr>\n",
       "    <tr>\n",
       "      <th>8</th>\n",
       "      <td>Запустить акцию, дающую скидку на товар в день рождения</td>\n",
       "      <td>1</td>\n",
       "      <td>9</td>\n",
       "      <td>9</td>\n",
       "      <td>5</td>\n",
       "    </tr>\n",
       "  </tbody>\n",
       "</table>\n",
       "</div>"
      ],
      "text/plain": [
       "                                                                                                     Hypothesis  \\\n",
       "0            Добавить два новых канала привлечения трафика, что позволит привлекать на 30% больше пользователей   \n",
       "1                                     Запустить собственную службу доставки, что сократит срок доставки заказов   \n",
       "2  Добавить блоки рекомендаций товаров на сайт интернет магазина, чтобы повысить конверсию и средний чек заказа   \n",
       "3           Изменить структура категорий, что увеличит конверсию, т.к. пользователи быстрее найдут нужный товар   \n",
       "4                              Изменить цвет фона главной страницы, чтобы увеличить вовлеченность пользователей   \n",
       "5                      Добавить страницу отзывов клиентов о магазине, что позволит увеличить количество заказов   \n",
       "6          Показать на главной странице баннеры с актуальными акциями и распродажами, чтобы увеличить конверсию   \n",
       "7              Добавить форму подписки на все основные страницы, чтобы собрать базу клиентов для email-рассылок   \n",
       "8                                                       Запустить акцию, дающую скидку на товар в день рождения   \n",
       "\n",
       "   Reach  Impact  Confidence  Efforts  \n",
       "0      3      10           8        6  \n",
       "1      2       5           4       10  \n",
       "2      8       3           7        3  \n",
       "3      8       3           3        8  \n",
       "4      3       1           1        1  \n",
       "5      3       2           2        3  \n",
       "6      5       3           8        3  \n",
       "7     10       7           8        5  \n",
       "8      1       9           9        5  "
      ]
     },
     "execution_count": 2,
     "metadata": {},
     "output_type": "execute_result"
    }
   ],
   "source": [
    "# чтение, запись таблиц\n",
    "try:\n",
    "    hypothesis = pd.read_csv('/-')\n",
    "except:\n",
    "    hypothesis = pd.read_csv(\n",
    "        '/-'\n",
    "    )\n",
    "\n",
    "hypothesis"
   ]
  },
  {
   "cell_type": "code",
   "execution_count": 3,
   "id": "7cca0b2e",
   "metadata": {},
   "outputs": [
    {
     "data": {
      "text/plain": [
       "Hypothesis    0\n",
       "Reach         0\n",
       "Impact        0\n",
       "Confidence    0\n",
       "Efforts       0\n",
       "dtype: int64"
      ]
     },
     "execution_count": 3,
     "metadata": {},
     "output_type": "execute_result"
    }
   ],
   "source": [
    "hypothesis.duplicated().sum()\n",
    "hypothesis.isna().sum()"
   ]
  },
  {
   "cell_type": "markdown",
   "id": "05c48e46",
   "metadata": {},
   "source": [
    "В предобработке данных я решила не изменять названия столбцов таблиц, проверила на дубликаты и пропуски."
   ]
  },
  {
   "cell_type": "markdown",
   "id": "0bd5f912",
   "metadata": {},
   "source": [
    "## Приоритизация гипотез по ICE фреймворку"
   ]
  },
  {
   "cell_type": "markdown",
   "id": "7b58beb7",
   "metadata": {},
   "source": [
    "Фреймворк ICE состоит из трех компонент:\n",
    "* Efforts - сколько стоит протестировать данную гипотезу\n",
    "* Impact - насколько изменение повлияет на пользователей\n",
    "* Confidence - уверенность в том что изменение повлияет на пользователей именно так  \n",
    "Формула для рассчета приоритетности той или иной гипотезы рассчитывается по формуле:\n",
    "\n",
    "$$ICE score = \\frac{Impact * Confidence}{Efforts}$$"
   ]
  },
  {
   "cell_type": "code",
   "execution_count": 4,
   "id": "6232c2be",
   "metadata": {},
   "outputs": [
    {
     "data": {
      "text/html": [
       "<div>\n",
       "<style scoped>\n",
       "    .dataframe tbody tr th:only-of-type {\n",
       "        vertical-align: middle;\n",
       "    }\n",
       "\n",
       "    .dataframe tbody tr th {\n",
       "        vertical-align: top;\n",
       "    }\n",
       "\n",
       "    .dataframe thead th {\n",
       "        text-align: right;\n",
       "    }\n",
       "</style>\n",
       "<table border=\"1\" class=\"dataframe\">\n",
       "  <thead>\n",
       "    <tr style=\"text-align: right;\">\n",
       "      <th></th>\n",
       "      <th>Hypothesis</th>\n",
       "      <th>ICE</th>\n",
       "    </tr>\n",
       "  </thead>\n",
       "  <tbody>\n",
       "    <tr>\n",
       "      <th>0</th>\n",
       "      <td>Добавить два новых канала привлечения трафика, что позволит привлекать на 30% больше пользователей</td>\n",
       "      <td>13.333333</td>\n",
       "    </tr>\n",
       "    <tr>\n",
       "      <th>1</th>\n",
       "      <td>Запустить собственную службу доставки, что сократит срок доставки заказов</td>\n",
       "      <td>2.000000</td>\n",
       "    </tr>\n",
       "    <tr>\n",
       "      <th>2</th>\n",
       "      <td>Добавить блоки рекомендаций товаров на сайт интернет магазина, чтобы повысить конверсию и средний чек заказа</td>\n",
       "      <td>7.000000</td>\n",
       "    </tr>\n",
       "    <tr>\n",
       "      <th>3</th>\n",
       "      <td>Изменить структура категорий, что увеличит конверсию, т.к. пользователи быстрее найдут нужный товар</td>\n",
       "      <td>1.125000</td>\n",
       "    </tr>\n",
       "    <tr>\n",
       "      <th>4</th>\n",
       "      <td>Изменить цвет фона главной страницы, чтобы увеличить вовлеченность пользователей</td>\n",
       "      <td>1.000000</td>\n",
       "    </tr>\n",
       "    <tr>\n",
       "      <th>5</th>\n",
       "      <td>Добавить страницу отзывов клиентов о магазине, что позволит увеличить количество заказов</td>\n",
       "      <td>1.333333</td>\n",
       "    </tr>\n",
       "    <tr>\n",
       "      <th>6</th>\n",
       "      <td>Показать на главной странице баннеры с актуальными акциями и распродажами, чтобы увеличить конверсию</td>\n",
       "      <td>8.000000</td>\n",
       "    </tr>\n",
       "    <tr>\n",
       "      <th>7</th>\n",
       "      <td>Добавить форму подписки на все основные страницы, чтобы собрать базу клиентов для email-рассылок</td>\n",
       "      <td>11.200000</td>\n",
       "    </tr>\n",
       "    <tr>\n",
       "      <th>8</th>\n",
       "      <td>Запустить акцию, дающую скидку на товар в день рождения</td>\n",
       "      <td>16.200000</td>\n",
       "    </tr>\n",
       "  </tbody>\n",
       "</table>\n",
       "</div>"
      ],
      "text/plain": [
       "                                                                                                     Hypothesis  \\\n",
       "0            Добавить два новых канала привлечения трафика, что позволит привлекать на 30% больше пользователей   \n",
       "1                                     Запустить собственную службу доставки, что сократит срок доставки заказов   \n",
       "2  Добавить блоки рекомендаций товаров на сайт интернет магазина, чтобы повысить конверсию и средний чек заказа   \n",
       "3           Изменить структура категорий, что увеличит конверсию, т.к. пользователи быстрее найдут нужный товар   \n",
       "4                              Изменить цвет фона главной страницы, чтобы увеличить вовлеченность пользователей   \n",
       "5                      Добавить страницу отзывов клиентов о магазине, что позволит увеличить количество заказов   \n",
       "6          Показать на главной странице баннеры с актуальными акциями и распродажами, чтобы увеличить конверсию   \n",
       "7              Добавить форму подписки на все основные страницы, чтобы собрать базу клиентов для email-рассылок   \n",
       "8                                                       Запустить акцию, дающую скидку на товар в день рождения   \n",
       "\n",
       "         ICE  \n",
       "0  13.333333  \n",
       "1   2.000000  \n",
       "2   7.000000  \n",
       "3   1.125000  \n",
       "4   1.000000  \n",
       "5   1.333333  \n",
       "6   8.000000  \n",
       "7  11.200000  \n",
       "8  16.200000  "
      ]
     },
     "metadata": {},
     "output_type": "display_data"
    }
   ],
   "source": [
    "# посчитаем приоритет гипотез по ICE фреймворку\n",
    "hypothesis['ICE'] = (\n",
    "    (hypothesis['Impact'] * hypothesis['Confidence'] / hypothesis['Efforts'])\n",
    ")\n",
    "display(hypothesis[['Hypothesis', 'ICE']])"
   ]
  },
  {
   "cell_type": "markdown",
   "id": "a0e2f692",
   "metadata": {},
   "source": [
    "У метода приоритизации ICE Scoring иногда критикуют за излишнюю субъективность, поскольку одно и тоже изменение может быть оценено разными людьми по-разному, или даже одним человеком по-разному, в разное время."
   ]
  },
  {
   "cell_type": "markdown",
   "id": "e7c56214",
   "metadata": {},
   "source": [
    "## Приоритизация гипотез по RICE "
   ]
  },
  {
   "cell_type": "markdown",
   "id": "318247b6",
   "metadata": {},
   "source": [
    "Фреймворк ICE состоит из четырех компонент:\n",
    "* Efforts - сколько стоит протестировать данную гипотезу\n",
    "* Reach - количество пользователей, которых затронет изменение\n",
    "* Impact - насколько изменение повлияет на пользователей\n",
    "* Confidence - уверенность в том что изменение повлияет на пользователей именно так\n",
    "* Efforts \n",
    "Формула для рассчета приоритетности той или иной гипотезы рассчитывается по формуле:\n",
    "\n",
    "$$RICE score = \\frac{Impact * Confidence * Reach}{Efforts}$$"
   ]
  },
  {
   "cell_type": "code",
   "execution_count": 5,
   "id": "ed3454fa",
   "metadata": {},
   "outputs": [
    {
     "data": {
      "text/html": [
       "<div>\n",
       "<style scoped>\n",
       "    .dataframe tbody tr th:only-of-type {\n",
       "        vertical-align: middle;\n",
       "    }\n",
       "\n",
       "    .dataframe tbody tr th {\n",
       "        vertical-align: top;\n",
       "    }\n",
       "\n",
       "    .dataframe thead th {\n",
       "        text-align: right;\n",
       "    }\n",
       "</style>\n",
       "<table border=\"1\" class=\"dataframe\">\n",
       "  <thead>\n",
       "    <tr style=\"text-align: right;\">\n",
       "      <th></th>\n",
       "      <th>Hypothesis</th>\n",
       "      <th>ICE</th>\n",
       "      <th>RICE</th>\n",
       "    </tr>\n",
       "  </thead>\n",
       "  <tbody>\n",
       "    <tr>\n",
       "      <th>7</th>\n",
       "      <td>Добавить форму подписки на все основные страницы, чтобы собрать базу клиентов для email-рассылок</td>\n",
       "      <td>11.200000</td>\n",
       "      <td>112.0</td>\n",
       "    </tr>\n",
       "    <tr>\n",
       "      <th>2</th>\n",
       "      <td>Добавить блоки рекомендаций товаров на сайт интернет магазина, чтобы повысить конверсию и средний чек заказа</td>\n",
       "      <td>7.000000</td>\n",
       "      <td>56.0</td>\n",
       "    </tr>\n",
       "    <tr>\n",
       "      <th>0</th>\n",
       "      <td>Добавить два новых канала привлечения трафика, что позволит привлекать на 30% больше пользователей</td>\n",
       "      <td>13.333333</td>\n",
       "      <td>40.0</td>\n",
       "    </tr>\n",
       "    <tr>\n",
       "      <th>6</th>\n",
       "      <td>Показать на главной странице баннеры с актуальными акциями и распродажами, чтобы увеличить конверсию</td>\n",
       "      <td>8.000000</td>\n",
       "      <td>40.0</td>\n",
       "    </tr>\n",
       "    <tr>\n",
       "      <th>8</th>\n",
       "      <td>Запустить акцию, дающую скидку на товар в день рождения</td>\n",
       "      <td>16.200000</td>\n",
       "      <td>16.2</td>\n",
       "    </tr>\n",
       "    <tr>\n",
       "      <th>3</th>\n",
       "      <td>Изменить структура категорий, что увеличит конверсию, т.к. пользователи быстрее найдут нужный товар</td>\n",
       "      <td>1.125000</td>\n",
       "      <td>9.0</td>\n",
       "    </tr>\n",
       "    <tr>\n",
       "      <th>1</th>\n",
       "      <td>Запустить собственную службу доставки, что сократит срок доставки заказов</td>\n",
       "      <td>2.000000</td>\n",
       "      <td>4.0</td>\n",
       "    </tr>\n",
       "    <tr>\n",
       "      <th>5</th>\n",
       "      <td>Добавить страницу отзывов клиентов о магазине, что позволит увеличить количество заказов</td>\n",
       "      <td>1.333333</td>\n",
       "      <td>4.0</td>\n",
       "    </tr>\n",
       "    <tr>\n",
       "      <th>4</th>\n",
       "      <td>Изменить цвет фона главной страницы, чтобы увеличить вовлеченность пользователей</td>\n",
       "      <td>1.000000</td>\n",
       "      <td>3.0</td>\n",
       "    </tr>\n",
       "  </tbody>\n",
       "</table>\n",
       "</div>"
      ],
      "text/plain": [
       "                                                                                                     Hypothesis  \\\n",
       "7              Добавить форму подписки на все основные страницы, чтобы собрать базу клиентов для email-рассылок   \n",
       "2  Добавить блоки рекомендаций товаров на сайт интернет магазина, чтобы повысить конверсию и средний чек заказа   \n",
       "0            Добавить два новых канала привлечения трафика, что позволит привлекать на 30% больше пользователей   \n",
       "6          Показать на главной странице баннеры с актуальными акциями и распродажами, чтобы увеличить конверсию   \n",
       "8                                                       Запустить акцию, дающую скидку на товар в день рождения   \n",
       "3           Изменить структура категорий, что увеличит конверсию, т.к. пользователи быстрее найдут нужный товар   \n",
       "1                                     Запустить собственную службу доставки, что сократит срок доставки заказов   \n",
       "5                      Добавить страницу отзывов клиентов о магазине, что позволит увеличить количество заказов   \n",
       "4                              Изменить цвет фона главной страницы, чтобы увеличить вовлеченность пользователей   \n",
       "\n",
       "         ICE   RICE  \n",
       "7  11.200000  112.0  \n",
       "2   7.000000   56.0  \n",
       "0  13.333333   40.0  \n",
       "6   8.000000   40.0  \n",
       "8  16.200000   16.2  \n",
       "3   1.125000    9.0  \n",
       "1   2.000000    4.0  \n",
       "5   1.333333    4.0  \n",
       "4   1.000000    3.0  "
      ]
     },
     "metadata": {},
     "output_type": "display_data"
    }
   ],
   "source": [
    "# посчитаем приоритет гипотез по RICE фреймворку\n",
    "hypothesis['RICE'] = (\n",
    "    (hypothesis['Reach'] * hypothesis['Impact'] * hypothesis['Confidence'] /\n",
    "    hypothesis['Efforts'])    \n",
    ")\n",
    "# выведем гипотезы, отсортировав по RICE приоритетности\n",
    "display(hypothesis[\n",
    "    ['Hypothesis', 'ICE', 'RICE']\n",
    "    ].sort_values(by='RICE', ascending=False)\n",
    ")"
   ]
  },
  {
   "cell_type": "markdown",
   "id": "d8a4ae48",
   "metadata": {},
   "source": [
    "## Различия в приоритизации "
   ]
  },
  {
   "cell_type": "markdown",
   "id": "b3d4af71",
   "metadata": {},
   "source": [
    "Наблюдаемые различия в приоритизации гипотез получаются в результате того что в RICE scoring добавляется параметр Reach, соответственно в RICE учитывается количество пользователей, которых затронет нововведение. Таким образом в RICE минимизируется субъективность ICE scoring, хоть и не полностью, за счет введения дополнительного параметра."
   ]
  },
  {
   "cell_type": "markdown",
   "id": "10148c8a",
   "metadata": {},
   "source": [
    "# Анализ А/В-теста"
   ]
  },
  {
   "cell_type": "code",
   "execution_count": 6,
   "id": "c8aee8e0",
   "metadata": {},
   "outputs": [],
   "source": [
    "# откроем таблицы, прочитаем, запишем их\n",
    "try:\n",
    "    orders = pd.read_csv('/datasets/orders.csv', sep=',')\n",
    "    visitors = pd.read_csv('/datasets/visitors.csv', sep=',')\n",
    "except:\n",
    "    orders = pd.read_csv(\n",
    "        '/Users/onelev/shkoding/jupyter_projects/ab_tests/orders.csv', sep=','\n",
    "    )\n",
    "    visitors = pd.read_csv(\n",
    "        '/Users/onelev/shkoding/jupyter_projects/ab_tests/visitors.csv', sep=','\n",
    "    )"
   ]
  },
  {
   "cell_type": "code",
   "execution_count": 7,
   "id": "8ef5cfaf",
   "metadata": {
    "scrolled": true
   },
   "outputs": [
    {
     "name": "stdout",
     "output_type": "stream",
     "text": [
      "0 0\n",
      "date        0\n",
      "group       0\n",
      "visitors    0\n",
      "dtype: int64 transactionId    0\n",
      "visitorId        0\n",
      "date             0\n",
      "revenue          0\n",
      "group            0\n",
      "dtype: int64\n"
     ]
    }
   ],
   "source": [
    "# проверим на наличие дубликатов обе таблицы\n",
    "print(visitors.duplicated().sum(), orders.duplicated().sum())\n",
    "print(visitors.isna().sum(), orders.isna().sum())"
   ]
  },
  {
   "cell_type": "markdown",
   "id": "5b1f168d",
   "metadata": {},
   "source": [
    "В предобработке данных я не изменяла название колонок, проверила на пропуски и дубликаты. Считаю данные готовыми к анализу."
   ]
  },
  {
   "cell_type": "code",
   "execution_count": 8,
   "id": "dcb89df1",
   "metadata": {
    "scrolled": true
   },
   "outputs": [],
   "source": [
    "# приведем столбцы с временем к типу даты в обеих таблицах\n",
    "orders['date'] = orders['date'].map(\n",
    "    lambda x: dt.datetime.strptime(x, '%Y-%m-%d')\n",
    ")\n",
    "visitors['date'] = visitors['date'].map(\n",
    "    lambda x: dt.datetime.strptime(x,'%Y-%m-%d')\n",
    ")"
   ]
  },
  {
   "cell_type": "code",
   "execution_count": 34,
   "id": "d53af2b3",
   "metadata": {},
   "outputs": [
    {
     "name": "stdout",
     "output_type": "stream",
     "text": [
      "Количество id пользователей, которые есть в двух группах: 58\n"
     ]
    },
    {
     "data": {
      "text/html": [
       "<div>\n",
       "<style scoped>\n",
       "    .dataframe tbody tr th:only-of-type {\n",
       "        vertical-align: middle;\n",
       "    }\n",
       "\n",
       "    .dataframe tbody tr th {\n",
       "        vertical-align: top;\n",
       "    }\n",
       "\n",
       "    .dataframe thead th {\n",
       "        text-align: right;\n",
       "    }\n",
       "</style>\n",
       "<table border=\"1\" class=\"dataframe\">\n",
       "  <thead>\n",
       "    <tr style=\"text-align: right;\">\n",
       "      <th></th>\n",
       "      <th>visitorId</th>\n",
       "      <th>times</th>\n",
       "    </tr>\n",
       "  </thead>\n",
       "  <tbody>\n",
       "    <tr>\n",
       "      <th>2</th>\n",
       "      <td>8300375</td>\n",
       "      <td>2</td>\n",
       "    </tr>\n",
       "    <tr>\n",
       "      <th>44</th>\n",
       "      <td>199603092</td>\n",
       "      <td>2</td>\n",
       "    </tr>\n",
       "    <tr>\n",
       "      <th>51</th>\n",
       "      <td>232979603</td>\n",
       "      <td>2</td>\n",
       "    </tr>\n",
       "    <tr>\n",
       "      <th>55</th>\n",
       "      <td>237748145</td>\n",
       "      <td>2</td>\n",
       "    </tr>\n",
       "    <tr>\n",
       "      <th>66</th>\n",
       "      <td>276558944</td>\n",
       "      <td>2</td>\n",
       "    </tr>\n",
       "  </tbody>\n",
       "</table>\n",
       "</div>"
      ],
      "text/plain": [
       "    visitorId  times\n",
       "2     8300375      2\n",
       "44  199603092      2\n",
       "51  232979603      2\n",
       "55  237748145      2\n",
       "66  276558944      2"
      ]
     },
     "execution_count": 34,
     "metadata": {},
     "output_type": "execute_result"
    }
   ],
   "source": [
    "# сгруппируем по id пользователя, посчитаем в скольких группах пользователь находится\n",
    "te = (orders\n",
    "      .groupby('visitorId', as_index=False)['group']\n",
    "      .agg('nunique')\n",
    "      .rename(columns={'group' : 'times'})\n",
    "     )\n",
    "# оставим только те id, у которых в колонке times = 1\n",
    "# таким образом мы избавимся от тех пользователей, которые оказались в обоих группах\n",
    "te = te.query('times == 2')\n",
    "# количество id находящихся в 2х группах:\n",
    "print(f'Количество id пользователей, которые есть в двух группах: {te.shape[0]}')\n",
    "te.head()"
   ]
  },
  {
   "cell_type": "code",
   "execution_count": 10,
   "id": "101261d5",
   "metadata": {},
   "outputs": [],
   "source": [
    "# количество пользователей в выбранную дату в группах\n",
    "visAday = (\n",
    "    visitors\n",
    "    .query('group == \"A\"')[['date', 'visitors']]\n",
    "    .rename(columns={'visitors' : 'visAday'})\n",
    ")\n",
    "visBday = (\n",
    "    visitors\n",
    "    .query('group == \"B\"')[['date', 'visitors']]\n",
    "    .rename(columns={'visitors' : 'visBday'})\n",
    ")"
   ]
  },
  {
   "cell_type": "code",
   "execution_count": 11,
   "id": "dc2a9ca9",
   "metadata": {},
   "outputs": [],
   "source": [
    "# количество пользователей ДО выбранной даты ВКЛЮЧИТЕЛЬНО в группах\n",
    "visAcum = visAday.apply(\n",
    "    lambda x: visAday[visAday['date'] <= x['date']].agg(\n",
    "        {'date' : 'max',\n",
    "        'visAday' : 'sum'}\n",
    "    ), axis=1\n",
    ").rename(columns={'visAday' : 'visAcum'})\n",
    "\n",
    "visBcum = visBday.apply(\n",
    "    lambda x: visBday[visBday['date'] <= x['date']].agg(\n",
    "        {'date' : 'max',\n",
    "        'visBday' : 'sum'}\n",
    "    ), axis=1\n",
    ").rename(columns={'visBday' : 'visBcum'})"
   ]
  },
  {
   "cell_type": "code",
   "execution_count": 12,
   "id": "587eba91",
   "metadata": {},
   "outputs": [],
   "source": [
    "# количество заказов в выбранную дату в группах\n",
    "ordersAday = (orders\n",
    "              .query('group == \"A\"')\n",
    "              .groupby('date', as_index=False)\n",
    "              .agg({'transactionId' : 'nunique',\n",
    "                    'revenue' : 'sum'})\n",
    "              .rename(columns={'transactionId' : 'ordersAday',\n",
    "                              'revenue' : 'revAday'})\n",
    "             )\n",
    "\n",
    "ordersBday = (orders\n",
    "             .query('group == \"B\"')\n",
    "             .groupby('date', as_index=False)\n",
    "             .agg({'transactionId' : 'nunique',\n",
    "                   'revenue' : 'sum'})\n",
    "             .rename(columns={'transactionId' : 'ordersBday',\n",
    "                              'revenue' : 'revBday'})\n",
    "             )"
   ]
  },
  {
   "cell_type": "code",
   "execution_count": 13,
   "id": "97c51132",
   "metadata": {},
   "outputs": [],
   "source": [
    "# количество заказов до выбранной даты включительно в группах\n",
    "# кумулятивные данные\n",
    "ordersAcum = ordersAday.apply(\n",
    "    lambda x: ordersAday[ordersAday['date'] <= x['date']].agg(\n",
    "        {'date' : 'max',\n",
    "         'ordersAday' : 'sum',\n",
    "         'revAday' : 'sum'}\n",
    "    ), axis=1\n",
    ").rename(columns={'ordersAday' : 'ordersAcum',\n",
    "                  'revAday' : 'revAcum'}\n",
    "        )\n",
    "\n",
    "ordersBcum = ordersBday.apply(\n",
    "    lambda x: ordersBday[ordersBday['date'] <= x['date']].agg(\n",
    "        {'date' : 'max',\n",
    "         'ordersBday' : 'sum',\n",
    "         'revBday' : 'sum'}\n",
    "    ), axis=1\n",
    ").rename(columns={'ordersBday' : 'ordersBcum',\n",
    "                  'revBday' : 'revBcum'}\n",
    "        )"
   ]
  },
  {
   "cell_type": "code",
   "execution_count": 14,
   "id": "88efeb5c",
   "metadata": {},
   "outputs": [],
   "source": [
    "# итоговая таблица, в которую соберем все данные, полученные ранее\n",
    "data = (ordersAday\n",
    "        .merge(ordersBday, on='date')\n",
    "        .merge(ordersAcum, on='date')\n",
    "        .merge(ordersBcum, on='date')\n",
    "        .merge(visAday, on='date')\n",
    "        .merge(visBday, on='date')\n",
    "        .merge(visAcum, on='date')\n",
    "        .merge(visBcum, on='date')\n",
    "       )"
   ]
  },
  {
   "cell_type": "markdown",
   "id": "0706af30",
   "metadata": {},
   "source": [
    "## Кумулятивная выручка"
   ]
  },
  {
   "cell_type": "code",
   "execution_count": 15,
   "id": "7a2df6f6",
   "metadata": {},
   "outputs": [
    {
     "data": {
      "image/png": "[encoded data removed]",
      "text/plain": [
       "<Figure size 720x360 with 1 Axes>"
      ]
     },
     "metadata": {
      "needs_background": "light"
     },
     "output_type": "display_data"
    }
   ],
   "source": [
    "# построим график кумулятивной выручки для обеих групп\n",
    "plt.figure(figsize=(10,5))\n",
    "plt.plot(data['date'], data['revAcum'],\n",
    "         label='A', color='#2E8B57', linewidth=2)\n",
    "plt.plot(data['date'], data['revBcum'],\n",
    "         label='B', color='#663399', linewidth=2)\n",
    "plt.grid()\n",
    "plt.legend()\n",
    "plt.title('График кумулятивной выручки по группам')\n",
    "plt.xlabel('Дата теста')\n",
    "plt.ylabel('Выручка')\n",
    "plt.show()"
   ]
  },
  {
   "cell_type": "markdown",
   "id": "dbc2d6e5",
   "metadata": {},
   "source": [
    "Выручка для обеих групп практически равномерно увечличивается в течение всего теста.\n",
    "Выручка группы А имеет более прямолинейный характер, в то время как для группы В наблюдается резкий скачок в выручке.  \n",
    "В целом, группа В имеет более высокую выручку, нежели группа А.\n",
    "\n",
    "Резкий скачок у группы В может сигнализировать о покупке на аномально большую сумму.\n"
   ]
  },
  {
   "cell_type": "markdown",
   "id": "4975b333",
   "metadata": {},
   "source": [
    "## Кумулятивный средний чек"
   ]
  },
  {
   "cell_type": "code",
   "execution_count": 16,
   "id": "adf9e3b1",
   "metadata": {},
   "outputs": [
    {
     "data": {
      "image/png": "[encoded data removed]",
      "text/plain": [
       "<Figure size 720x360 with 1 Axes>"
      ]
     },
     "metadata": {
      "needs_background": "light"
     },
     "output_type": "display_data"
    }
   ],
   "source": [
    "# построим кумулятивные график для средних чеков двух групп\n",
    "plt.figure(figsize=(10,5))\n",
    "plt.plot(data['date'], data['revAcum']/data['ordersAcum'],\n",
    "         label='A', color='#2E8B57', linewidth=2)\n",
    "plt.plot(data['date'], data['revBcum']/data['ordersBcum'],\n",
    "         label='B', color='#663399', linewidth=2)\n",
    "plt.grid()\n",
    "plt.legend()\n",
    "plt.title('График кумулятивного среднего чека по группам')\n",
    "plt.xlabel('Дата теста')\n",
    "plt.ylabel('Средний чек')\n",
    "plt.show()"
   ]
  },
  {
   "cell_type": "markdown",
   "id": "2bc866ac",
   "metadata": {},
   "source": [
    "Зависимости кумулятивных средних чеков, для группы В, в начале теста имеет ряд всплесков, затем, в середине теста - самое заметное увеличение среднего чека, далее наблюдается установление и тенденцией снижения.\n",
    "\n",
    "Для группы А зависимость имеет совершенно другой характер, имеются всплески, но к концу теста значения устанавливаются.\n",
    "\n",
    "Вероятно в группе В имеются крупные заказы, влияющие на внешний вид графика. Соответственно, после такого большого резкого увеличения среднего значения чека, группе В потребуется гораздо больше времени, для того чтобы значения установились."
   ]
  },
  {
   "cell_type": "markdown",
   "id": "4867209b",
   "metadata": {},
   "source": [
    "## Относительное изменение кумулятивного среднего чека "
   ]
  },
  {
   "cell_type": "code",
   "execution_count": 17,
   "id": "87bcec5a",
   "metadata": {},
   "outputs": [
    {
     "data": {
      "image/png": "[encoded data removed]",
      "text/plain": [
       "<Figure size 720x360 with 1 Axes>"
      ]
     },
     "metadata": {
      "needs_background": "light"
     },
     "output_type": "display_data"
    }
   ],
   "source": [
    "plt.figure(figsize=(10,5))\n",
    "plt.plot(\n",
    "    data['date'], \n",
    "    (data['revBcum'] / data['ordersBcum']) /\n",
    "    (data['revAcum'] / data['ordersAcum']) - 1,\n",
    "    color='#663399',\n",
    "    linewidth=2\n",
    ")\n",
    "plt.grid()\n",
    "plt.axhline(y=0, color='#000000', linestyle='--')\n",
    "plt.axhline(y=0.259, color='#708090', linestyle='--')\n",
    "plt.title('График относительного изменения кумулятивного среднего чека группы B к группе A')\n",
    "plt.xlabel('Дата теста')\n",
    "plt.show()    "
   ]
  },
  {
   "cell_type": "markdown",
   "id": "fb3a4c73",
   "metadata": {},
   "source": [
    "Результаты теста менялись резко несколько раз, вероятно, тогда были совершены аномальные покупки.\n",
    "В целом результаты группы В лучше результатов группы А.\n",
    "К концу теста группа В практически на 26% имеет средний чек выше. чем группа А"
   ]
  },
  {
   "cell_type": "markdown",
   "id": "6489f96a",
   "metadata": {},
   "source": [
    "## Кумулятивная конверсия"
   ]
  },
  {
   "cell_type": "code",
   "execution_count": 18,
   "id": "9bb66dec",
   "metadata": {},
   "outputs": [
    {
     "data": {
      "image/png": "[encoded data removed]",
      "text/plain": [
       "<Figure size 720x360 with 1 Axes>"
      ]
     },
     "metadata": {
      "needs_background": "light"
     },
     "output_type": "display_data"
    }
   ],
   "source": [
    "# построим график кумулятивной конверсии для обеих групп\n",
    "plt.figure(figsize=(10,5))\n",
    "plt.plot(\n",
    "    data['date'], data['ordersAcum']/data['visAcum'],\n",
    "    color='#2E8B57', linewidth=2, label=\"A\")\n",
    "plt.plot(\n",
    "    data['date'], data['ordersBcum']/data['visBcum'],\n",
    "    color='#663399', linewidth=2, label=\"В\")\n",
    "plt.grid()\n",
    "plt.title('График изменения кумулятивной конверсии двух групп во времени')\n",
    "plt.legend()\n",
    "plt.axis([dt.datetime(2019, 8, 1), dt.datetime(2019,9, 1), 0, 0.05])\n",
    "plt.xlabel('Дата')\n",
    "plt.ylabel('Конверсия')\n",
    "plt.show()"
   ]
  },
  {
   "cell_type": "markdown",
   "id": "3c2fa7ef",
   "metadata": {},
   "source": [
    "Графики имеют симметричные зависимости. Конверсия группы В оказалась выше чем конверсия группы А. На начальном этапе были флуктуации, но далее данные стабилизировались. "
   ]
  },
  {
   "cell_type": "markdown",
   "id": "7035c2e2",
   "metadata": {},
   "source": [
    "## График относительного различия кумулятивных конверсий"
   ]
  },
  {
   "cell_type": "code",
   "execution_count": 19,
   "id": "bb4e66f0",
   "metadata": {},
   "outputs": [
    {
     "data": {
      "image/png": "[encoded data removed]",
      "text/plain": [
       "<Figure size 720x360 with 1 Axes>"
      ]
     },
     "metadata": {
      "needs_background": "light"
     },
     "output_type": "display_data"
    }
   ],
   "source": [
    "# построим график относительного различия кумулятивных конверсий\n",
    "plt.figure(figsize=(10,5))\n",
    "plt.plot(\n",
    "    data['date'],\n",
    "    (data['ordersBcum']/data['visBcum'])/(data['ordersAcum']/data['visAcum']) - 1,\n",
    "    color='#2E8B57', linewidth=2)\n",
    "plt.grid()\n",
    "plt.axhline(y=0, color='#000000', linestyle='--')\n",
    "plt.axhline(y=0.14, color='#708090', linestyle='--')\n",
    "plt.title('График относительного различия кумулятивных конверсий')\n",
    "plt.xlabel('Дата')\n",
    "plt.ylabel('')\n",
    "plt.show()"
   ]
  },
  {
   "cell_type": "markdown",
   "id": "a88b7e7f",
   "metadata": {},
   "source": [
    "Исходя из графика видно, что за все время теста группа В имеет более высокие показатели конверсии. К концу теста показатели на 14% выше, чем у группы А."
   ]
  },
  {
   "cell_type": "markdown",
   "id": "87d64eb8",
   "metadata": {},
   "source": [
    "## Точечный график количества заказов по пользователям"
   ]
  },
  {
   "cell_type": "code",
   "execution_count": 20,
   "id": "ad2a6b22",
   "metadata": {},
   "outputs": [
    {
     "data": {
      "text/html": [
       "<div>\n",
       "<style scoped>\n",
       "    .dataframe tbody tr th:only-of-type {\n",
       "        vertical-align: middle;\n",
       "    }\n",
       "\n",
       "    .dataframe tbody tr th {\n",
       "        vertical-align: top;\n",
       "    }\n",
       "\n",
       "    .dataframe thead th {\n",
       "        text-align: right;\n",
       "    }\n",
       "</style>\n",
       "<table border=\"1\" class=\"dataframe\">\n",
       "  <thead>\n",
       "    <tr style=\"text-align: right;\">\n",
       "      <th></th>\n",
       "      <th>visitorId</th>\n",
       "      <th>transaction</th>\n",
       "    </tr>\n",
       "  </thead>\n",
       "  <tbody>\n",
       "    <tr>\n",
       "      <th>0</th>\n",
       "      <td>5114589</td>\n",
       "      <td>1</td>\n",
       "    </tr>\n",
       "    <tr>\n",
       "      <th>1</th>\n",
       "      <td>6958315</td>\n",
       "      <td>1</td>\n",
       "    </tr>\n",
       "    <tr>\n",
       "      <th>2</th>\n",
       "      <td>8300375</td>\n",
       "      <td>2</td>\n",
       "    </tr>\n",
       "    <tr>\n",
       "      <th>3</th>\n",
       "      <td>11685486</td>\n",
       "      <td>1</td>\n",
       "    </tr>\n",
       "    <tr>\n",
       "      <th>4</th>\n",
       "      <td>39475350</td>\n",
       "      <td>1</td>\n",
       "    </tr>\n",
       "  </tbody>\n",
       "</table>\n",
       "</div>"
      ],
      "text/plain": [
       "   visitorId  transaction\n",
       "0    5114589            1\n",
       "1    6958315            1\n",
       "2    8300375            2\n",
       "3   11685486            1\n",
       "4   39475350            1"
      ]
     },
     "execution_count": 20,
     "metadata": {},
     "output_type": "execute_result"
    }
   ],
   "source": [
    "# сгруппируем данные для дальнейшего построения\n",
    "usersorders = (orders.groupby(\n",
    "    'visitorId', as_index=False)\n",
    "    .agg({'transactionId' : 'nunique'})\n",
    "    .rename(columns={'transactionId' : 'transaction'})\n",
    " )\n",
    "usersorders.head()   "
   ]
  },
  {
   "cell_type": "code",
   "execution_count": 21,
   "id": "435f59ae",
   "metadata": {},
   "outputs": [
    {
     "data": {
      "image/png": "[encoded data removed]",
      "text/plain": [
       "<Figure size 720x360 with 1 Axes>"
      ]
     },
     "metadata": {
      "needs_background": "light"
     },
     "output_type": "display_data"
    }
   ],
   "source": [
    "# зададим ось х и построим график\n",
    "x_values = pd.Series(range(0, len(usersorders)))\n",
    "plt.figure(figsize=(10,5))\n",
    "plt.scatter(x_values, usersorders['transaction'], color='#2E8B57')\n",
    "plt.title('Точечный график количества заказов по пользователям')\n",
    "plt.show()"
   ]
  },
  {
   "cell_type": "markdown",
   "id": "d6f6b483",
   "metadata": {},
   "source": [
    "## Расчет 95-ого и 99-ого перцентилей количества заказов"
   ]
  },
  {
   "cell_type": "code",
   "execution_count": 22,
   "id": "22512f6a",
   "metadata": {},
   "outputs": [
    {
     "name": "stdout",
     "output_type": "stream",
     "text": [
      "95% 99%\n",
      "[2. 4.]\n"
     ]
    }
   ],
   "source": [
    "print('95% 99%')\n",
    "print(np.percentile(usersorders['transaction'], [95, 99]))"
   ]
  },
  {
   "cell_type": "markdown",
   "id": "1d7f56c9",
   "metadata": {},
   "source": [
    "Исходя из анализа данных, не более 1% всех пользователей сделали 4 и более покупок, не более 5% совершило от 2х до 3х заказов. Таким образом аномальными будем считать тех, кто совершил более 2 покупок. "
   ]
  },
  {
   "cell_type": "markdown",
   "id": "04f558d8",
   "metadata": {},
   "source": [
    "## Точечный график стоимости заказов по пользователям"
   ]
  },
  {
   "cell_type": "code",
   "execution_count": 23,
   "id": "1e9f060a",
   "metadata": {},
   "outputs": [
    {
     "data": {
      "image/png": "[encoded data removed]",
      "text/plain": [
       "<Figure size 720x360 with 1 Axes>"
      ]
     },
     "metadata": {
      "needs_background": "light"
     },
     "output_type": "display_data"
    }
   ],
   "source": [
    "x_values = pd.Series(range(0, len(orders['revenue'])))\n",
    "plt.figure(figsize=(10,5))\n",
    "plt.scatter(x_values, orders['revenue'], color='#2E8B57')\n",
    "plt.title('Точечный график стоимости заказов по пользователям')\n",
    "plt.show()"
   ]
  },
  {
   "cell_type": "code",
   "execution_count": 24,
   "id": "df538961",
   "metadata": {},
   "outputs": [
    {
     "data": {
      "image/png": "[encoded data removed]",
      "text/plain": [
       "<Figure size 720x360 with 1 Axes>"
      ]
     },
     "metadata": {
      "needs_background": "light"
     },
     "output_type": "display_data"
    }
   ],
   "source": [
    "x_values = pd.Series(range(0, len(orders['revenue'])))\n",
    "plt.figure(figsize=(10,5))\n",
    "plt.scatter(x_values, orders['revenue'], color='#2E8B57')\n",
    "plt.title('Распределение стоимости заказов по пользователям')\n",
    "plt.xlabel('')\n",
    "plt.ylabel('')\n",
    "plt.axis([0, 1200, 0, 28000])  # добавила ограничение по оси с ценой заказа\n",
    "plt.show()"
   ]
  },
  {
   "cell_type": "markdown",
   "id": "ff85f060",
   "metadata": {},
   "source": [
    "## Расчет 95-ого и 99-ого перцентилей стоимости заказов"
   ]
  },
  {
   "cell_type": "code",
   "execution_count": 25,
   "id": "d6bcad44",
   "metadata": {},
   "outputs": [
    {
     "name": "stdout",
     "output_type": "stream",
     "text": [
      "   95%     99%\n",
      "[28000.  58233.2]\n"
     ]
    }
   ],
   "source": [
    "print('   95%     99%')\n",
    "print(np.percentile(orders['revenue'], [95, 99]))"
   ]
  },
  {
   "cell_type": "markdown",
   "id": "57860b6f",
   "metadata": {},
   "source": [
    "Таким образом, не более 1% пользователей совершили покупку на 58 тысяч и выше, и не более 5% - на 28000 рублей. В дальнейшем будем считать что все заказы свыше 28000 являются аномальными."
   ]
  },
  {
   "cell_type": "markdown",
   "id": "2ee7bc33",
   "metadata": {},
   "source": [
    "##  Cтатистическая значимость различий в конверсии между группами по «сырым» данным"
   ]
  },
  {
   "cell_type": "code",
   "execution_count": 26,
   "id": "16382e1b",
   "metadata": {},
   "outputs": [],
   "source": [
    "# соберем заказы по пользователям в зависимости от группы\n",
    "ordersA = (orders.query('group == \"A\"')\n",
    "            .groupby('visitorId', as_index=False)\n",
    "            .agg({'transactionId' : 'nunique'})\n",
    "            .rename(columns={'transactionId' : 'transA'})\n",
    "          )\n",
    "ordersB = (orders.query('group == \"B\"')\n",
    "            .groupby('visitorId', as_index=False)\n",
    "            .agg({'transactionId' : 'nunique'})\n",
    "            .rename(columns={'transactionId' : 'transB'})\n",
    "          )"
   ]
  },
  {
   "cell_type": "code",
   "execution_count": 27,
   "id": "0e4b85be",
   "metadata": {},
   "outputs": [],
   "source": [
    "# в данных переменных пользователям каждой группы присвоено количество заказов\n",
    "# тем, кто ничего не заказал, присвоен 0\n",
    "sampleA = pd.concat(\n",
    "    [\n",
    "        ordersA['transA'],\n",
    "        pd.Series(\n",
    "            0,\n",
    "            index=np.arange(\n",
    "                data['visAday'].sum() - len(ordersA['transA'])\n",
    "            ), name='orders'\n",
    "        ),\n",
    "    ], axis=0\n",
    ")\n",
    "\n",
    "sampleB = pd.concat(\n",
    "    [\n",
    "        ordersB['transB'],\n",
    "        pd.Series(\n",
    "            0,\n",
    "            index=np.arange(\n",
    "                data['visBday'].sum() - len(ordersB['transB'])\n",
    "            ), name='orders'\n",
    "        ),\n",
    "    ], axis=0\n",
    ")"
   ]
  },
  {
   "cell_type": "markdown",
   "id": "71bd9e50",
   "metadata": {},
   "source": [
    "**Сформулируем гипотезы**\\\n",
    "Нулевая гипотеза: различий конверсий между группами нет\\\n",
    "Альтернативная гипотеза: различия в конверсии между группами есть"
   ]
  },
  {
   "cell_type": "code",
   "execution_count": 28,
   "id": "5be88186",
   "metadata": {},
   "outputs": [
    {
     "name": "stdout",
     "output_type": "stream",
     "text": [
      "p_value = 0.017 нулевую гипотезу отвергаем\n",
      "Группа В в среднем лучше группы А на 13.8%\n"
     ]
    }
   ],
   "source": [
    "mann_test = '{0:.3f}'.format(stats.mannwhitneyu(sampleA, sampleB)[1])\n",
    "difB = '{0:.3f}'.format(sampleB.mean()/sampleA.mean() - 1)\n",
    "#print(type(mann_test))\n",
    "if float(mann_test) > 0.05:\n",
    "    print(f'p_value = {mann_test} нулевую гипотезу не отвергаем')\n",
    "else:\n",
    "    print(f'p_value = {mann_test} нулевую гипотезу отвергаем')\n",
    "print(f'Группа В в среднем лучше группы А на {float(difB)*100}%')"
   ]
  },
  {
   "cell_type": "markdown",
   "id": "7a81353f",
   "metadata": {},
   "source": [
    "Исходя из данных получается что конверсии двух групп различаются. Это может поризойти вследствии того что ряд покупателей совершали множество покупок, или покупали на большую сумму."
   ]
  },
  {
   "cell_type": "markdown",
   "id": "0b6ce62b",
   "metadata": {},
   "source": [
    "##  Cтатистическая значимость различий в конверсии между средними чеками по «сырым» данным"
   ]
  },
  {
   "cell_type": "markdown",
   "id": "66c8d869",
   "metadata": {},
   "source": [
    "**Сформулируем гипотезы**\\\n",
    "Нулевая гипотеза: различий между средними чеками в группах нет\\\n",
    "Альтернативная гипотеза: различия между средними чеками в группах есть"
   ]
  },
  {
   "cell_type": "code",
   "execution_count": 29,
   "id": "89442a63",
   "metadata": {},
   "outputs": [
    {
     "name": "stdout",
     "output_type": "stream",
     "text": [
      "p_value = 0.729 нулевую гипотезу не отвергаем\n",
      "Средний чек группы В больше чека группы А на 25.9%\n"
     ]
    }
   ],
   "source": [
    "mann_test = '{0:.3f}'.format(\n",
    "    stats.mannwhitneyu(\n",
    "        orders.query('group == \"A\"')['revenue'],\n",
    "        orders.query('group == \"B\"')['revenue'])[1]\n",
    "    )\n",
    "\n",
    "difB = '{0:.3f}'.format(\n",
    "    orders.query('group == \"B\"')['revenue'].mean()/\n",
    "    orders.query('group == \"A\"')['revenue'].mean() - 1\n",
    ")\n",
    "\n",
    "if float(mann_test) > 0.05:\n",
    "    print(f'p_value = {mann_test} нулевую гипотезу не отвергаем')\n",
    "else:\n",
    "    print(f'p_value = {mann_test} нулевую гипотезу отвергаем')\n",
    "print(f'Средний чек группы В больше чека группы А на {round(float(difB)*100, 2)}%')"
   ]
  },
  {
   "cell_type": "markdown",
   "id": "b482ef60",
   "metadata": {},
   "source": [
    "Средний чек группы В больше среднего чека группы А на 26%, очевидно, в группе В имеются пользователи, совершившие дорогие покупки. В дальнейшем мы очистим данные от аномально высоких, и проверим еще раз."
   ]
  },
  {
   "cell_type": "markdown",
   "id": "e5fb5ca8",
   "metadata": {},
   "source": [
    "## Cтатистическая значимость различий в конверсии между группами по «очищенным» данным"
   ]
  },
  {
   "cell_type": "code",
   "execution_count": 30,
   "id": "9dd3bb7e",
   "metadata": {
    "scrolled": false
   },
   "outputs": [],
   "source": [
    "# собираем пользователей совершивших аномально большое количество покупок\n",
    "# и покупки на аномально большую сумму\n",
    "#print(np.percentile(orders['revenue'], [95, 99]))\n",
    "revenue_proc = np.percentile(orders['revenue'], [95])\n",
    "trans_proc = np.percentile(usersorders['transaction'], [95])\n",
    "abnormalusers = (\n",
    "    pd.concat([\n",
    "        usersorders.query('transaction > @trans_proc[0]')['visitorId'],\n",
    "        orders.query('revenue > @revenue_proc[0]')['visitorId']\n",
    "    ], \n",
    "    axis=0\n",
    "    ).drop_duplicates()  \n",
    "    .sort_values()\n",
    ")"
   ]
  },
  {
   "cell_type": "code",
   "execution_count": 31,
   "id": "38cb2e4f",
   "metadata": {},
   "outputs": [],
   "source": [
    "# отфильтруем данные\n",
    "sampleAfilt = pd.concat(\n",
    "    [\n",
    "        ordersA\n",
    "        [np.logical_not(ordersA['visitorId'].isin(abnormalusers))]['transA'],\n",
    "        pd.Series(\n",
    "            0,\n",
    "            index=np.arange(\n",
    "                data['visAday'].sum() - len(ordersA['transA'])\n",
    "            ), name='orders'\n",
    "        ),\n",
    "    ], axis=0\n",
    ")\n",
    "\n",
    "sampleBfilt = pd.concat(\n",
    "    [\n",
    "        ordersB\n",
    "        [np.logical_not(ordersB['visitorId'].isin(abnormalusers))]['transB'],\n",
    "        pd.Series(\n",
    "            0,\n",
    "            index=np.arange(\n",
    "                data['visBday'].sum() - len(ordersB['transB'])\n",
    "            ), name='orders'\n",
    "        ),\n",
    "    ], axis=0\n",
    ")"
   ]
  },
  {
   "cell_type": "code",
   "execution_count": 32,
   "id": "e750aab1",
   "metadata": {},
   "outputs": [
    {
     "name": "stdout",
     "output_type": "stream",
     "text": [
      "p_value = 0.012 < 0.05: конверсии различны\n",
      "Конверсия группы В на 17.6% выше группы А\n"
     ]
    }
   ],
   "source": [
    "mann_test = '{0:.3f}'.format(stats.mannwhitneyu(sampleAfilt, sampleBfilt)[1])\n",
    "difB = '{0:.3f}'.format(sampleBfilt.mean()/sampleAfilt.mean() - 1)\n",
    "#print(type(mann_test))\n",
    "if float(mann_test) > 0.05:\n",
    "    print(f'p_value = {mann_test} > 0.05: конверсии одинаковы')\n",
    "else:\n",
    "    print(f'p_value = {mann_test} < 0.05: конверсии различны')\n",
    "print(f'Конверсия группы В на {round(float(difB)*100, 2)}% выше группы А')"
   ]
  },
  {
   "cell_type": "markdown",
   "id": "a632d317",
   "metadata": {},
   "source": [
    "После того как мы отфильтровали данные мы заново посчитали статистическую значимость различий в конверсии между группами теста. Результаты конверсии практически не изменились, при этом разница в конверсиях двух групп слегка увеличилась (до 18%).\n",
    "\n",
    "Полученное значение p-value говорит о том, что конверсия двух групп различна, получить такое или большее различие случайно можно с вероятностью чуть выше 1%, что ниже статистически значимой величины. На этом основании мы отвергаем нулевую гипотезу."
   ]
  },
  {
   "cell_type": "markdown",
   "id": "114b526b",
   "metadata": {},
   "source": [
    "##  Cтатистическая значимость различий в конверсии между средними чеками по «очищенным» данным"
   ]
  },
  {
   "cell_type": "code",
   "execution_count": 33,
   "id": "297af157",
   "metadata": {},
   "outputs": [
    {
     "name": "stdout",
     "output_type": "stream",
     "text": [
      "0.753\n",
      "-0.022\n"
     ]
    }
   ],
   "source": [
    "mann_test = '{0:.3f}'.format(\n",
    "    stats.mannwhitneyu(\n",
    "        orders.query('group == \"A\" & (not visitorId in @abnormalusers)')['revenue'], \n",
    "        orders.query('group == \"B\" & (not visitorId in @abnormalusers)')['revenue'])[1]\n",
    "        )\n",
    "difB = '{0:.3f}'.format(\n",
    "    orders.query('group == \"B\" & (not visitorId in @abnormalusers)')['revenue'].mean()\n",
    "    /orders.query('group == \"A\" & (not visitorId in @abnormalusers)')['revenue'].mean()\n",
    "    - 1\n",
    "    )\n",
    "print(mann_test)\n",
    "print(difB)"
   ]
  },
  {
   "cell_type": "markdown",
   "id": "7f729cfe",
   "metadata": {},
   "source": [
    "После того как данные были очищенны от аномальных значений, была заново расчитана статистическая значимость различий средних чеков двух групп.\n",
    "\n",
    "Значение p_value говорит о том, что с вероятностью около 75% есть вероятность получить такое или большее различие случайно. Это слишком большая вероятность чтобы говорить о значимом различии средних чеков двух групп.\n",
    "\n",
    "При этом разница чеков с 20% снизилась до 2%."
   ]
  },
  {
   "cell_type": "markdown",
   "id": "55651056",
   "metadata": {},
   "source": [
    "## Решение по результатам теста"
   ]
  },
  {
   "cell_type": "markdown",
   "id": "4d3f0cf9",
   "metadata": {},
   "source": [
    "Исходя из результатов теста:\n",
    "* Имеются статистически значимые различия между конверсиями двух групп, как для \"сырых\", так и для \"очищенных\" данных.\n",
    "* Нет статистически значимых различий между средними чеками двух групп, как для \"сырых\", так и для \"очищенных\" данных.\n",
    "* К концу теста конверсия группы В примерно на 14% выше конверсии группы А, и продолжает увеличиваться\n",
    "\n",
    "Таким образом можно остановить тест, и объявить что группа В лучше группы А."
   ]
  }
 ],
 "metadata": {
  "ExecuteTimeLog": [
   {
    "duration": 103,
    "start_time": "2022-04-30T13:47:28.941Z"
   },
   {
    "duration": 1352,
    "start_time": "2022-05-05T09:23:53.199Z"
   },
   {
    "duration": 89,
    "start_time": "2022-05-05T09:23:54.555Z"
   },
   {
    "duration": 11,
    "start_time": "2022-05-05T09:23:54.647Z"
   },
   {
    "duration": 42,
    "start_time": "2022-05-05T09:23:54.662Z"
   },
   {
    "duration": 19,
    "start_time": "2022-05-05T09:23:54.707Z"
   },
   {
    "duration": 62,
    "start_time": "2022-05-05T09:23:54.729Z"
   },
   {
    "duration": 14,
    "start_time": "2022-05-05T09:23:54.793Z"
   },
   {
    "duration": 22,
    "start_time": "2022-05-05T09:23:54.810Z"
   },
   {
    "duration": 23,
    "start_time": "2022-05-05T09:23:54.835Z"
   },
   {
    "duration": 38,
    "start_time": "2022-05-05T09:23:54.862Z"
   },
   {
    "duration": 153,
    "start_time": "2022-05-05T09:23:54.902Z"
   },
   {
    "duration": 39,
    "start_time": "2022-05-05T09:23:55.057Z"
   },
   {
    "duration": 158,
    "start_time": "2022-05-05T09:23:55.099Z"
   },
   {
    "duration": 61,
    "start_time": "2022-05-05T09:23:55.260Z"
   },
   {
    "duration": 445,
    "start_time": "2022-05-05T09:23:55.323Z"
   },
   {
    "duration": 326,
    "start_time": "2022-05-05T09:23:55.770Z"
   },
   {
    "duration": 383,
    "start_time": "2022-05-05T09:23:56.098Z"
   },
   {
    "duration": 312,
    "start_time": "2022-05-05T09:23:56.484Z"
   },
   {
    "duration": 378,
    "start_time": "2022-05-05T09:23:56.799Z"
   },
   {
    "duration": 22,
    "start_time": "2022-05-05T09:23:57.179Z"
   },
   {
    "duration": 229,
    "start_time": "2022-05-05T09:23:57.204Z"
   },
   {
    "duration": 5,
    "start_time": "2022-05-05T09:23:57.435Z"
   },
   {
    "duration": 240,
    "start_time": "2022-05-05T09:23:57.443Z"
   },
   {
    "duration": 226,
    "start_time": "2022-05-05T09:23:57.692Z"
   },
   {
    "duration": 6,
    "start_time": "2022-05-05T09:23:57.920Z"
   },
   {
    "duration": 20,
    "start_time": "2022-05-05T09:23:57.928Z"
   },
   {
    "duration": 9,
    "start_time": "2022-05-05T09:23:57.950Z"
   },
   {
    "duration": 31,
    "start_time": "2022-05-05T09:23:57.992Z"
   },
   {
    "duration": 22,
    "start_time": "2022-05-05T09:23:58.025Z"
   },
   {
    "duration": 189,
    "start_time": "2022-05-05T09:23:58.049Z"
   },
   {
    "duration": 0,
    "start_time": "2022-05-05T09:23:58.241Z"
   },
   {
    "duration": 1,
    "start_time": "2022-05-05T09:23:58.242Z"
   },
   {
    "duration": 0,
    "start_time": "2022-05-05T09:23:58.244Z"
   },
   {
    "duration": 6,
    "start_time": "2022-05-05T09:28:54.683Z"
   },
   {
    "duration": 45,
    "start_time": "2022-05-06T06:26:09.723Z"
   },
   {
    "duration": 5,
    "start_time": "2022-05-06T06:26:24.832Z"
   },
   {
    "duration": 1607,
    "start_time": "2022-05-06T06:26:32.972Z"
   },
   {
    "duration": 100,
    "start_time": "2022-05-06T06:26:34.582Z"
   },
   {
    "duration": 8,
    "start_time": "2022-05-06T06:26:34.684Z"
   },
   {
    "duration": 12,
    "start_time": "2022-05-06T06:26:34.694Z"
   },
   {
    "duration": 13,
    "start_time": "2022-05-06T06:26:34.708Z"
   },
   {
    "duration": 53,
    "start_time": "2022-05-06T06:26:34.723Z"
   },
   {
    "duration": 11,
    "start_time": "2022-05-06T06:26:34.778Z"
   },
   {
    "duration": 18,
    "start_time": "2022-05-06T06:26:34.790Z"
   },
   {
    "duration": 16,
    "start_time": "2022-05-06T06:26:34.810Z"
   },
   {
    "duration": 10,
    "start_time": "2022-05-06T06:26:34.829Z"
   },
   {
    "duration": 127,
    "start_time": "2022-05-06T06:26:34.841Z"
   },
   {
    "duration": 19,
    "start_time": "2022-05-06T06:26:34.970Z"
   },
   {
    "duration": 123,
    "start_time": "2022-05-06T06:26:35.001Z"
   },
   {
    "duration": 25,
    "start_time": "2022-05-06T06:26:35.126Z"
   },
   {
    "duration": 385,
    "start_time": "2022-05-06T06:26:35.153Z"
   },
   {
    "duration": 277,
    "start_time": "2022-05-06T06:26:35.540Z"
   },
   {
    "duration": 367,
    "start_time": "2022-05-06T06:26:35.819Z"
   },
   {
    "duration": 264,
    "start_time": "2022-05-06T06:26:36.188Z"
   },
   {
    "duration": 339,
    "start_time": "2022-05-06T06:26:36.454Z"
   },
   {
    "duration": 16,
    "start_time": "2022-05-06T06:26:36.794Z"
   },
   {
    "duration": 135,
    "start_time": "2022-05-06T06:26:36.812Z"
   },
   {
    "duration": 4,
    "start_time": "2022-05-06T06:26:36.949Z"
   },
   {
    "duration": 130,
    "start_time": "2022-05-06T06:26:36.954Z"
   },
   {
    "duration": 129,
    "start_time": "2022-05-06T06:26:37.085Z"
   },
   {
    "duration": 4,
    "start_time": "2022-05-06T06:26:37.216Z"
   },
   {
    "duration": 16,
    "start_time": "2022-05-06T06:26:37.221Z"
   },
   {
    "duration": 6,
    "start_time": "2022-05-06T06:26:37.238Z"
   },
   {
    "duration": 23,
    "start_time": "2022-05-06T06:26:37.247Z"
   },
   {
    "duration": 38,
    "start_time": "2022-05-06T06:26:37.271Z"
   },
   {
    "duration": 118,
    "start_time": "2022-05-06T06:26:37.311Z"
   },
   {
    "duration": 0,
    "start_time": "2022-05-06T06:26:37.431Z"
   },
   {
    "duration": 0,
    "start_time": "2022-05-06T06:26:37.432Z"
   },
   {
    "duration": 0,
    "start_time": "2022-05-06T06:26:37.433Z"
   },
   {
    "duration": 0,
    "start_time": "2022-05-06T06:26:37.434Z"
   },
   {
    "duration": 4,
    "start_time": "2022-05-06T06:27:05.277Z"
   },
   {
    "duration": 4,
    "start_time": "2022-05-06T06:27:12.615Z"
   },
   {
    "duration": 30,
    "start_time": "2022-05-06T06:27:22.848Z"
   },
   {
    "duration": 9,
    "start_time": "2022-05-06T06:33:06.807Z"
   },
   {
    "duration": 13,
    "start_time": "2022-05-06T06:33:12.368Z"
   },
   {
    "duration": 1076,
    "start_time": "2022-05-06T06:33:24.760Z"
   },
   {
    "duration": 78,
    "start_time": "2022-05-06T06:33:25.838Z"
   },
   {
    "duration": 6,
    "start_time": "2022-05-06T06:33:25.917Z"
   },
   {
    "duration": 11,
    "start_time": "2022-05-06T06:33:25.925Z"
   },
   {
    "duration": 10,
    "start_time": "2022-05-06T06:33:25.937Z"
   },
   {
    "duration": 54,
    "start_time": "2022-05-06T06:33:25.948Z"
   },
   {
    "duration": 9,
    "start_time": "2022-05-06T06:33:26.003Z"
   },
   {
    "duration": 12,
    "start_time": "2022-05-06T06:33:26.013Z"
   },
   {
    "duration": 195,
    "start_time": "2022-05-06T06:33:26.026Z"
   },
   {
    "duration": 0,
    "start_time": "2022-05-06T06:33:26.223Z"
   },
   {
    "duration": 0,
    "start_time": "2022-05-06T06:33:26.225Z"
   },
   {
    "duration": 0,
    "start_time": "2022-05-06T06:33:26.225Z"
   },
   {
    "duration": 0,
    "start_time": "2022-05-06T06:33:26.226Z"
   },
   {
    "duration": 0,
    "start_time": "2022-05-06T06:33:26.227Z"
   },
   {
    "duration": 0,
    "start_time": "2022-05-06T06:33:26.228Z"
   },
   {
    "duration": 0,
    "start_time": "2022-05-06T06:33:26.229Z"
   },
   {
    "duration": 0,
    "start_time": "2022-05-06T06:33:26.230Z"
   },
   {
    "duration": 0,
    "start_time": "2022-05-06T06:33:26.231Z"
   },
   {
    "duration": 0,
    "start_time": "2022-05-06T06:33:26.232Z"
   },
   {
    "duration": 0,
    "start_time": "2022-05-06T06:33:26.233Z"
   },
   {
    "duration": 0,
    "start_time": "2022-05-06T06:33:26.234Z"
   },
   {
    "duration": 0,
    "start_time": "2022-05-06T06:33:26.235Z"
   },
   {
    "duration": 0,
    "start_time": "2022-05-06T06:33:26.236Z"
   },
   {
    "duration": 0,
    "start_time": "2022-05-06T06:33:26.237Z"
   },
   {
    "duration": 0,
    "start_time": "2022-05-06T06:33:26.238Z"
   },
   {
    "duration": 0,
    "start_time": "2022-05-06T06:33:26.239Z"
   },
   {
    "duration": 0,
    "start_time": "2022-05-06T06:33:26.239Z"
   },
   {
    "duration": 0,
    "start_time": "2022-05-06T06:33:26.240Z"
   },
   {
    "duration": 0,
    "start_time": "2022-05-06T06:33:26.241Z"
   },
   {
    "duration": 0,
    "start_time": "2022-05-06T06:33:26.242Z"
   },
   {
    "duration": 0,
    "start_time": "2022-05-06T06:33:26.243Z"
   },
   {
    "duration": 0,
    "start_time": "2022-05-06T06:33:26.244Z"
   },
   {
    "duration": 0,
    "start_time": "2022-05-06T06:33:26.245Z"
   },
   {
    "duration": 0,
    "start_time": "2022-05-06T06:33:26.246Z"
   },
   {
    "duration": 15,
    "start_time": "2022-05-06T06:33:52.821Z"
   },
   {
    "duration": 92,
    "start_time": "2022-05-06T06:34:15.860Z"
   },
   {
    "duration": 3410,
    "start_time": "2022-05-06T06:34:27.527Z"
   },
   {
    "duration": 3253,
    "start_time": "2022-05-06T06:34:35.291Z"
   },
   {
    "duration": 14,
    "start_time": "2022-05-06T06:34:48.880Z"
   },
   {
    "duration": 297,
    "start_time": "2022-05-06T06:35:38.992Z"
   },
   {
    "duration": 9,
    "start_time": "2022-05-06T06:35:42.513Z"
   },
   {
    "duration": 9,
    "start_time": "2022-05-06T06:35:48.080Z"
   },
   {
    "duration": 8,
    "start_time": "2022-05-06T06:35:56.414Z"
   },
   {
    "duration": 11,
    "start_time": "2022-05-06T06:36:03.560Z"
   },
   {
    "duration": 9,
    "start_time": "2022-05-06T06:36:49.530Z"
   },
   {
    "duration": 12,
    "start_time": "2022-05-06T06:37:29.939Z"
   },
   {
    "duration": 13,
    "start_time": "2022-05-06T06:37:41.330Z"
   },
   {
    "duration": 12,
    "start_time": "2022-05-06T06:37:48.779Z"
   },
   {
    "duration": 12,
    "start_time": "2022-05-06T06:38:39.878Z"
   },
   {
    "duration": 4,
    "start_time": "2022-05-06T06:39:07.393Z"
   },
   {
    "duration": 11,
    "start_time": "2022-05-06T06:39:10.156Z"
   },
   {
    "duration": 12,
    "start_time": "2022-05-06T06:39:29.610Z"
   },
   {
    "duration": 13,
    "start_time": "2022-05-06T06:39:45.761Z"
   },
   {
    "duration": 1088,
    "start_time": "2022-05-06T06:39:59.972Z"
   },
   {
    "duration": 87,
    "start_time": "2022-05-06T06:40:01.062Z"
   },
   {
    "duration": 7,
    "start_time": "2022-05-06T06:40:01.151Z"
   },
   {
    "duration": 16,
    "start_time": "2022-05-06T06:40:01.160Z"
   },
   {
    "duration": 24,
    "start_time": "2022-05-06T06:40:01.178Z"
   },
   {
    "duration": 116,
    "start_time": "2022-05-06T06:40:01.204Z"
   },
   {
    "duration": 10,
    "start_time": "2022-05-06T06:40:01.322Z"
   },
   {
    "duration": 14,
    "start_time": "2022-05-06T06:40:01.334Z"
   },
   {
    "duration": 23,
    "start_time": "2022-05-06T06:40:01.350Z"
   },
   {
    "duration": 7,
    "start_time": "2022-05-06T06:40:01.377Z"
   },
   {
    "duration": 96,
    "start_time": "2022-05-06T06:40:01.386Z"
   },
   {
    "duration": 25,
    "start_time": "2022-05-06T06:40:01.484Z"
   },
   {
    "duration": 95,
    "start_time": "2022-05-06T06:40:01.510Z"
   },
   {
    "duration": 46,
    "start_time": "2022-05-06T06:40:01.606Z"
   },
   {
    "duration": 268,
    "start_time": "2022-05-06T06:40:01.654Z"
   },
   {
    "duration": 177,
    "start_time": "2022-05-06T06:40:01.923Z"
   },
   {
    "duration": 282,
    "start_time": "2022-05-06T06:40:02.101Z"
   },
   {
    "duration": 170,
    "start_time": "2022-05-06T06:40:02.385Z"
   },
   {
    "duration": 265,
    "start_time": "2022-05-06T06:40:02.557Z"
   },
   {
    "duration": 10,
    "start_time": "2022-05-06T06:40:02.824Z"
   },
   {
    "duration": 116,
    "start_time": "2022-05-06T06:40:02.835Z"
   },
   {
    "duration": 3,
    "start_time": "2022-05-06T06:40:02.953Z"
   },
   {
    "duration": 122,
    "start_time": "2022-05-06T06:40:02.958Z"
   },
   {
    "duration": 125,
    "start_time": "2022-05-06T06:40:03.082Z"
   },
   {
    "duration": 4,
    "start_time": "2022-05-06T06:40:03.209Z"
   },
   {
    "duration": 14,
    "start_time": "2022-05-06T06:40:03.214Z"
   },
   {
    "duration": 6,
    "start_time": "2022-05-06T06:40:03.230Z"
   },
   {
    "duration": 64,
    "start_time": "2022-05-06T06:40:03.239Z"
   },
   {
    "duration": 13,
    "start_time": "2022-05-06T06:40:03.305Z"
   },
   {
    "duration": 110,
    "start_time": "2022-05-06T06:40:03.319Z"
   },
   {
    "duration": 8,
    "start_time": "2022-05-06T06:40:03.430Z"
   },
   {
    "duration": 64,
    "start_time": "2022-05-06T06:40:03.439Z"
   },
   {
    "duration": 14,
    "start_time": "2022-05-06T06:40:03.505Z"
   },
   {
    "duration": 12,
    "start_time": "2022-05-06T06:40:35.131Z"
   }
  ],
  "kernelspec": {
   "display_name": "Python 3 (ipykernel)",
   "language": "python",
   "name": "python3"
  },
  "language_info": {
   "codemirror_mode": {
    "name": "ipython",
    "version": 3
   },
   "file_extension": ".py",
   "mimetype": "text/x-python",
   "name": "python",
   "nbconvert_exporter": "python",
   "pygments_lexer": "ipython3",
   "version": "3.9.7"
  },
  "toc": {
   "base_numbering": 1,
   "nav_menu": {},
   "number_sections": true,
   "sideBar": true,
   "skip_h1_title": false,
   "title_cell": "Table of Contents",
   "title_sidebar": "Contents",
   "toc_cell": false,
   "toc_position": {},
   "toc_section_display": true,
   "toc_window_display": false
  }
 },
 "nbformat": 4,
 "nbformat_minor": 5
}
